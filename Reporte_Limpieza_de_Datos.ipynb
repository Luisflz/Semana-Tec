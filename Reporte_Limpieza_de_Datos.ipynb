{
 "cells": [
  {
   "cell_type": "markdown",
   "id": "166780e7",
   "metadata": {},
   "source": [
    "# Reporte de Limpieza de Datos\n",
    "\n",
    "**Autor:** Luis Gerardo Flores Zapata\n",
    "\n",
    "**Matricúla:** A01799405\n",
    "\n",
    "**Fecha:** Octubre 2024"
   ]
  },
  {
   "cell_type": "markdown",
   "id": "1f6ceb22",
   "metadata": {},
   "source": [
    "## Resumen\n",
    "\n",
    "En este informe se realiza la limpieza de datos de un conjunto que contiene información sobre títulos de películas o series, sus géneros, calificaciones promedio, número de votos y año de lanzamiento. El objetivo es asegurar la calidad de los datos para un análisis más profundo."
   ]
  },
  {
   "cell_type": "markdown",
   "id": "f9f27683",
   "metadata": {},
   "source": [
    "## 1. Introducción\n",
    "\n",
    "### 1.1. Conjunto de Datos\n",
    "\n",
    "El conjunto de datos contiene 1000 registros con 6 columnas que describen títulos de series o películas con información sobre géneros, calificaciones, votos y años de lanzamiento.\n",
    "\n",
    "### 1.2. Objetivos de la Limpieza\n",
    "\n",
    "El objetivo de la limpieza de datos es eliminar cualquier inconsistencia o error que pudiera afectar los análisis posteriores, como valores nulos, datos duplicados, errores tipográficos o valores atípicos."
   ]
  },
  {
   "cell_type": "markdown",
   "id": "e5d6a963",
   "metadata": {},
   "source": [
    "## 2. Exploración Inicial"
   ]
  },
  {
   "cell_type": "code",
   "execution_count": 26,
   "id": "0e82daec",
   "metadata": {},
   "outputs": [
    {
     "data": {
      "text/html": [
       "<div>\n",
       "<style scoped>\n",
       "    .dataframe tbody tr th:only-of-type {\n",
       "        vertical-align: middle;\n",
       "    }\n",
       "\n",
       "    .dataframe tbody tr th {\n",
       "        vertical-align: top;\n",
       "    }\n",
       "\n",
       "    .dataframe thead th {\n",
       "        text-align: right;\n",
       "    }\n",
       "</style>\n",
       "<table border=\"1\" class=\"dataframe\">\n",
       "  <thead>\n",
       "    <tr style=\"text-align: right;\">\n",
       "      <th></th>\n",
       "      <th>id</th>\n",
       "      <th>title</th>\n",
       "      <th>genres</th>\n",
       "      <th>averageRating</th>\n",
       "      <th>numVotes</th>\n",
       "      <th>releaseYear</th>\n",
       "    </tr>\n",
       "  </thead>\n",
       "  <tbody>\n",
       "    <tr>\n",
       "      <th>0</th>\n",
       "      <td>tt0903747</td>\n",
       "      <td>Breaking Bad</td>\n",
       "      <td>Crime, Drama, Thriller</td>\n",
       "      <td>9.5</td>\n",
       "      <td>2222284</td>\n",
       "      <td>2008</td>\n",
       "    </tr>\n",
       "    <tr>\n",
       "      <th>1</th>\n",
       "      <td>tt5491994</td>\n",
       "      <td>Planet Earth II</td>\n",
       "      <td>Documentary</td>\n",
       "      <td>9.5</td>\n",
       "      <td>161331</td>\n",
       "      <td>2016</td>\n",
       "    </tr>\n",
       "    <tr>\n",
       "      <th>2</th>\n",
       "      <td>tt0185906</td>\n",
       "      <td>Band of Brothers</td>\n",
       "      <td>Drama, History, War</td>\n",
       "      <td>9.4</td>\n",
       "      <td>543090</td>\n",
       "      <td>2001</td>\n",
       "    </tr>\n",
       "    <tr>\n",
       "      <th>3</th>\n",
       "      <td>tt0795176</td>\n",
       "      <td>Planet Earth</td>\n",
       "      <td>Documentary, Family</td>\n",
       "      <td>9.4</td>\n",
       "      <td>222856</td>\n",
       "      <td>2006</td>\n",
       "    </tr>\n",
       "    <tr>\n",
       "      <th>4</th>\n",
       "      <td>tt5152226</td>\n",
       "      <td>Tree of Life</td>\n",
       "      <td>Drama</td>\n",
       "      <td>9.4</td>\n",
       "      <td>11606</td>\n",
       "      <td>2014</td>\n",
       "    </tr>\n",
       "  </tbody>\n",
       "</table>\n",
       "</div>"
      ],
      "text/plain": [
       "          id             title                  genres  averageRating  \\\n",
       "0  tt0903747      Breaking Bad  Crime, Drama, Thriller            9.5   \n",
       "1  tt5491994   Planet Earth II             Documentary            9.5   \n",
       "2  tt0185906  Band of Brothers     Drama, History, War            9.4   \n",
       "3  tt0795176      Planet Earth     Documentary, Family            9.4   \n",
       "4  tt5152226      Tree of Life                   Drama            9.4   \n",
       "\n",
       "   numVotes  releaseYear  \n",
       "0   2222284         2008  \n",
       "1    161331         2016  \n",
       "2    543090         2001  \n",
       "3    222856         2006  \n",
       "4     11606         2014  "
      ]
     },
     "execution_count": 26,
     "metadata": {},
     "output_type": "execute_result"
    }
   ],
   "source": [
    "import pandas as pd\n",
    "import matplotlib.pyplot as plt\n",
    "\n",
    "data = pd.read_csv('data.csv')\n",
    "data.head()"
   ]
  },
  {
   "cell_type": "code",
   "execution_count": 5,
   "id": "1ae8ea61",
   "metadata": {},
   "outputs": [
    {
     "name": "stdout",
     "output_type": "stream",
     "text": [
      "<class 'pandas.core.frame.DataFrame'>\n",
      "RangeIndex: 1000 entries, 0 to 999\n",
      "Data columns (total 6 columns):\n",
      " #   Column         Non-Null Count  Dtype  \n",
      "---  ------         --------------  -----  \n",
      " 0   id             1000 non-null   object \n",
      " 1   title          1000 non-null   object \n",
      " 2   genres         1000 non-null   object \n",
      " 3   averageRating  1000 non-null   float64\n",
      " 4   numVotes       1000 non-null   int64  \n",
      " 5   releaseYear    1000 non-null   int64  \n",
      "dtypes: float64(1), int64(2), object(3)\n",
      "memory usage: 47.0+ KB\n"
     ]
    }
   ],
   "source": [
    "data.info()"
   ]
  },
  {
   "cell_type": "code",
   "execution_count": 6,
   "id": "f6ade44d",
   "metadata": {},
   "outputs": [
    {
     "data": {
      "text/html": [
       "<div>\n",
       "<style scoped>\n",
       "    .dataframe tbody tr th:only-of-type {\n",
       "        vertical-align: middle;\n",
       "    }\n",
       "\n",
       "    .dataframe tbody tr th {\n",
       "        vertical-align: top;\n",
       "    }\n",
       "\n",
       "    .dataframe thead th {\n",
       "        text-align: right;\n",
       "    }\n",
       "</style>\n",
       "<table border=\"1\" class=\"dataframe\">\n",
       "  <thead>\n",
       "    <tr style=\"text-align: right;\">\n",
       "      <th></th>\n",
       "      <th>averageRating</th>\n",
       "      <th>numVotes</th>\n",
       "      <th>releaseYear</th>\n",
       "    </tr>\n",
       "  </thead>\n",
       "  <tbody>\n",
       "    <tr>\n",
       "      <th>count</th>\n",
       "      <td>1000.000000</td>\n",
       "      <td>1.000000e+03</td>\n",
       "      <td>1000.000000</td>\n",
       "    </tr>\n",
       "    <tr>\n",
       "      <th>mean</th>\n",
       "      <td>8.367500</td>\n",
       "      <td>9.192366e+04</td>\n",
       "      <td>2010.210000</td>\n",
       "    </tr>\n",
       "    <tr>\n",
       "      <th>std</th>\n",
       "      <td>0.322238</td>\n",
       "      <td>1.732035e+05</td>\n",
       "      <td>12.332396</td>\n",
       "    </tr>\n",
       "    <tr>\n",
       "      <th>min</th>\n",
       "      <td>7.900000</td>\n",
       "      <td>1.001000e+04</td>\n",
       "      <td>1951.000000</td>\n",
       "    </tr>\n",
       "    <tr>\n",
       "      <th>25%</th>\n",
       "      <td>8.100000</td>\n",
       "      <td>1.787525e+04</td>\n",
       "      <td>2005.000000</td>\n",
       "    </tr>\n",
       "    <tr>\n",
       "      <th>50%</th>\n",
       "      <td>8.300000</td>\n",
       "      <td>3.425400e+04</td>\n",
       "      <td>2014.000000</td>\n",
       "    </tr>\n",
       "    <tr>\n",
       "      <th>75%</th>\n",
       "      <td>8.600000</td>\n",
       "      <td>9.044375e+04</td>\n",
       "      <td>2019.000000</td>\n",
       "    </tr>\n",
       "    <tr>\n",
       "      <th>max</th>\n",
       "      <td>9.500000</td>\n",
       "      <td>2.356835e+06</td>\n",
       "      <td>2024.000000</td>\n",
       "    </tr>\n",
       "  </tbody>\n",
       "</table>\n",
       "</div>"
      ],
      "text/plain": [
       "       averageRating      numVotes  releaseYear\n",
       "count    1000.000000  1.000000e+03  1000.000000\n",
       "mean        8.367500  9.192366e+04  2010.210000\n",
       "std         0.322238  1.732035e+05    12.332396\n",
       "min         7.900000  1.001000e+04  1951.000000\n",
       "25%         8.100000  1.787525e+04  2005.000000\n",
       "50%         8.300000  3.425400e+04  2014.000000\n",
       "75%         8.600000  9.044375e+04  2019.000000\n",
       "max         9.500000  2.356835e+06  2024.000000"
      ]
     },
     "execution_count": 6,
     "metadata": {},
     "output_type": "execute_result"
    }
   ],
   "source": [
    "data.describe()"
   ]
  },
  {
   "cell_type": "markdown",
   "id": "fbc1b7af",
   "metadata": {},
   "source": [
    "### Observaciones iniciales:\n",
    "\n",
    "El conjunto de datos no contiene valores nulos, pero verificaremos la calidad de los datos en columnas como `averageRating` y `releaseYear` para asegurar que no haya valores atípicos."
   ]
  },
  {
   "cell_type": "markdown",
   "id": "23752a30",
   "metadata": {},
   "source": [
    "## 3. Proceso de Limpieza"
   ]
  },
  {
   "cell_type": "markdown",
   "id": "37cbe57f",
   "metadata": {},
   "source": [
    "### 3.1. Tratamiento de Valores Faltantes\n",
    "\n"
   ]
  },
  {
   "cell_type": "code",
   "execution_count": 17,
   "id": "cbae7fb9",
   "metadata": {},
   "outputs": [
    {
     "name": "stdout",
     "output_type": "stream",
     "text": [
      "id               0\n",
      "title            0\n",
      "genres           0\n",
      "averageRating    0\n",
      "numVotes         0\n",
      "releaseYear      0\n",
      "dtype: int64\n"
     ]
    },
    {
     "name": "stderr",
     "output_type": "stream",
     "text": [
      "/var/folders/y7/h3_4_f6s08j4p4n5jf59h3qc0000gn/T/ipykernel_21368/1822004840.py:5: FutureWarning: A value is trying to be set on a copy of a DataFrame or Series through chained assignment using an inplace method.\n",
      "The behavior will change in pandas 3.0. This inplace method will never work because the intermediate object on which we are setting values always behaves as a copy.\n",
      "\n",
      "For example, when doing 'df[col].method(value, inplace=True)', try using 'df.method({col: value}, inplace=True)' or df[col] = df[col].method(value) instead, to perform the operation inplace on the original object.\n",
      "\n",
      "\n",
      "  data['averageRating'].fillna(data['averageRating'].mean(), inplace=True)\n"
     ]
    }
   ],
   "source": [
    "print(data.isnull().sum())\n",
    "\n",
    "data_clean = data.dropna()\n",
    "\n",
    "data['averageRating'].fillna(data['averageRating'].mean(), inplace=True)\n"
   ]
  },
  {
   "cell_type": "markdown",
   "id": "b81728b1",
   "metadata": {},
   "source": [
    "### 3.2. Corrección de Datos Erróneos\n",
    "\n",
    "Procedemos a revisar las columnas `averageRating` y `releaseYear` para identificar posibles valores fuera de rango."
   ]
  },
  {
   "cell_type": "code",
   "execution_count": 20,
   "id": "db9c6766",
   "metadata": {},
   "outputs": [
    {
     "name": "stdout",
     "output_type": "stream",
     "text": [
      "Empty DataFrame\n",
      "Columns: [id, title, genres, averageRating, numVotes, releaseYear]\n",
      "Index: []\n",
      "Empty DataFrame\n",
      "Columns: [id, title, genres, averageRating, numVotes, releaseYear]\n",
      "Index: []\n"
     ]
    }
   ],
   "source": [
    "outliers_rating = data[(data['averageRating'] < 0) | (data['averageRating'] > 10)]\n",
    "print(outliers_rating) \n",
    "\n",
    "outliers_year = data[(data['releaseYear'] < 1900) | (data['releaseYear'] > 2024)]\n",
    "print(outliers_year) \n",
    "\n",
    "data_clean = data[(data['averageRating'] >= 0) & (data['averageRating'] <= 10)]\n",
    "data_clean = data_clean[(data_clean['releaseYear'] >= 1900) & (data_clean['releaseYear'] <= 2024)]"
   ]
  },
  {
   "cell_type": "markdown",
   "id": "01453294",
   "metadata": {},
   "source": [
    "### 3.3. Manejo de Valores Atípicos\n",
    "\n",
    "Ajusté cualquier valor fuera de rango detectado en las calificaciones o en el año de lanzamiento."
   ]
  },
  {
   "cell_type": "markdown",
   "id": "361bc167",
   "metadata": {},
   "source": [
    "### 3.4. Estandarización y Normalización\n",
    "\n",
    "Se puede estandarizar la columna de géneros si es necesario para garantizar consistencia."
   ]
  },
  {
   "cell_type": "code",
   "execution_count": 21,
   "id": "dbe7474e",
   "metadata": {},
   "outputs": [
    {
     "name": "stdout",
     "output_type": "stream",
     "text": [
      "['crime,  drama,  thriller' 'documentary' 'drama,  history,  war'\n",
      " 'documentary,  family' 'drama' 'drama,  history,  thriller'\n",
      " 'action,  adventure,  animation' 'animation,  family' 'comedy'\n",
      " 'action,  adventure,  drama' 'crime,  drama' 'biography,  crime,  drama'\n",
      " 'drama,  history' 'comedy,  short' 'documentary,  history,  war'\n",
      " 'crime,  drama,  mystery' 'adventure,  animation,  comedy'\n",
      " 'biography,  documentary,  history' 'adventure,  comedy,  drama'\n",
      " 'comedy,  drama' 'comedy,  drama,  family' 'action,  crime,  drama'\n",
      " 'adventure,  fantasy' 'drama,  family' 'drama,  fantasy,  horror'\n",
      " 'comedy,  documentary,  reality-tv' 'adventure,  drama,  family'\n",
      " 'comedy,  game-show' 'comedy,  romance' 'animation,  crime,  drama'\n",
      " 'adventure,  drama,  sci-fi' 'comedy,  documentary'\n",
      " 'biography,  documentary,  music' 'adventure,  animation,  drama'\n",
      " 'comedy,  drama,  sport' 'animation,  comedy,  drama'\n",
      " 'comedy,  news,  talk-show' 'drama,  romance' 'comedy,  music'\n",
      " 'comedy,  war' 'drama,  war' 'comedy,  drama,  romance'\n",
      " 'biography,  drama,  history' 'crime,  drama,  romance' 'comedy,  news'\n",
      " 'action,  crime,  romance' 'action,  animation,  comedy'\n",
      " 'action,  comedy,  crime' 'drama,  mystery' 'animation,  comedy'\n",
      " 'drama,  western' 'drama,  mystery,  sci-fi' 'action,  drama,  romance'\n",
      " 'adventure,  sport,  talk-show' 'action,  comedy,  drama'\n",
      " 'comedy,  sport,  talk-show' 'action,  animation,  drama' 'drama,  sport'\n",
      " 'adventure,  drama,  western' 'comedy,  drama,  fantasy'\n",
      " 'action,  drama,  fantasy' 'drama,  thriller' 'comedy,  family'\n",
      " 'comedy,  crime,  talk-show' 'action,  adventure,  fantasy'\n",
      " 'adventure,  crime,  drama' 'adventure,  drama,  history'\n",
      " 'crime,  drama,  history' 'comedy,  fantasy,  horror'\n",
      " 'comedy,  drama,  music' 'crime,  mystery,  thriller'\n",
      " 'biography,  crime,  documentary' 'comedy,  reality-tv'\n",
      " 'action,  crime,  thriller' 'comedy,  drama,  history' 'comedy,  sci-fi'\n",
      " 'comedy,  talk-show' 'drama,  music,  romance' 'adventure,  documentary'\n",
      " 'action,  drama,  history' 'game-show,  reality-tv'\n",
      " 'action,  crime,  mystery' 'comedy,  fantasy,  romance'\n",
      " 'drama,  horror,  mystery' 'crime,  drama,  horror'\n",
      " 'action,  adventure,  biography' 'crime,  documentary'\n",
      " 'comedy,  music,  musical' 'comedy,  drama,  war' 'documentary,  sport'\n",
      " 'comedy,  crime' 'comedy,  crime,  drama' 'animation,  comedy,  romance'\n",
      " 'reality-tv' 'action,  animation,  crime' 'animation,  comedy,  short'\n",
      " 'biography,  documentary' 'action,  comedy,  sci-fi'\n",
      " 'crime,  mystery,  romance' 'animation,  drama,  fantasy'\n",
      " 'drama,  fantasy' 'biography,  drama' 'drama,  sci-fi,  thriller'\n",
      " 'adventure,  drama,  fantasy' 'animation,  drama,  history'\n",
      " 'comedy,  crime,  mystery' 'action,  adventure,  sci-fi'\n",
      " 'action,  comedy,  horror' 'drama,  fantasy,  mystery'\n",
      " 'comedy,  musical,  sci-fi' 'animation,  drama,  family'\n",
      " 'comedy,  fantasy' 'adventure,  family,  fantasy'\n",
      " 'comedy,  history,  war' 'documentary,  short'\n",
      " 'comedy,  family,  musical' 'comedy,  fantasy,  musical'\n",
      " 'biography,  comedy,  drama' 'animation,  comedy,  talk-show'\n",
      " 'comedy,  music,  talk-show' 'comedy,  horror'\n",
      " 'animation,  drama,  mystery' 'animation,  documentary,  history'\n",
      " 'drama,  family,  romance' 'action,  adventure,  comedy'\n",
      " 'drama,  mystery,  thriller' 'comedy,  sport' 'action,  drama,  horror'\n",
      " 'documentary,  mystery,  reality-tv' 'action,  drama,  thriller'\n",
      " 'comedy,  drama,  thriller' 'animation,  comedy,  family'\n",
      " 'adventure,  comedy,  documentary' 'drama,  sci-fi'\n",
      " 'biography,  drama,  sport' 'comedy,  drama,  horror' 'action,  comedy'\n",
      " 'animation,  comedy,  music' 'drama,  music' 'biography,  drama,  music'\n",
      " 'animation,  comedy,  fantasy' 'action,  drama,  western'\n",
      " 'crime,  drama,  fantasy' 'action,  animation,  fantasy'\n",
      " 'drama,  music,  musical' 'adventure,  comedy,  family'\n",
      " 'animation,  sport,  thriller' 'animation,  comedy,  sport'\n",
      " 'drama,  mystery,  romance' 'drama,  horror,  thriller'\n",
      " 'comedy,  crime,  fantasy' 'action,  drama,  sci-fi'\n",
      " 'drama,  history,  romance' 'comedy,  drama,  mystery'\n",
      " 'biography,  documentary,  sport' 'action,  fantasy,  mystery'\n",
      " 'biography,  comedy' 'drama,  fantasy,  romance' 'adventure,  reality-tv'\n",
      " 'animation,  drama,  horror' 'comedy,  drama,  musical'\n",
      " 'fantasy,  mystery,  romance' 'adventure,  comedy,  fantasy'\n",
      " 'adventure,  animation,  family' 'thriller' 'action,  mystery,  thriller'\n",
      " 'action,  drama,  mystery' 'drama,  horror,  sci-fi'\n",
      " 'adventure,  comedy,  crime' 'action,  drama'\n",
      " 'crime,  documentary,  mystery' 'documentary,  drama,  history'\n",
      " 'drama,  romance,  thriller' 'comedy,  family,  horror'\n",
      " 'comedy,  mystery,  romance' 'action' 'fantasy,  war'\n",
      " 'comedy,  family,  talk-show' 'crime,  thriller'\n",
      " 'action,  fantasy,  horror' 'animation,  comedy,  sci-fi'\n",
      " 'adventure,  comedy,  sci-fi' 'documentary,  music' 'crime'\n",
      " 'adventure,  biography,  drama' 'adventure,  drama,  horror']\n"
     ]
    }
   ],
   "source": [
    "data['genres'] = data['genres'].str.lower().str.replace(',', ', ')\n",
    "\n",
    "print(data['genres'].unique())\n"
   ]
  },
  {
   "cell_type": "markdown",
   "id": "91df0574",
   "metadata": {},
   "source": [
    "## 4. Resultados"
   ]
  },
  {
   "cell_type": "markdown",
   "id": "5619a8a1",
   "metadata": {},
   "source": [
    "### 4.1. Estadísticas Descriptivas\n",
    "\n",
    "A continuación se muestran las estadísticas descriptivas  antes de cualquier modificación."
   ]
  },
  {
   "cell_type": "code",
   "execution_count": 24,
   "id": "bbdbc6fe",
   "metadata": {},
   "outputs": [
    {
     "name": "stdout",
     "output_type": "stream",
     "text": [
      "Estadísticas antes de la limpieza:\n",
      "       averageRating      numVotes  releaseYear\n",
      "count    1000.000000  1.000000e+03  1000.000000\n",
      "mean        8.367500  9.192366e+04  2010.210000\n",
      "std         0.322238  1.732035e+05    12.332396\n",
      "min         7.900000  1.001000e+04  1951.000000\n",
      "25%         8.100000  1.787525e+04  2005.000000\n",
      "50%         8.300000  3.425400e+04  2014.000000\n",
      "75%         8.600000  9.044375e+04  2019.000000\n",
      "max         9.500000  2.356835e+06  2024.000000\n"
     ]
    }
   ],
   "source": [
    "print(\"Estadísticas antes de la limpieza:\")\n",
    "print(data.describe())"
   ]
  },
  {
   "cell_type": "markdown",
   "id": "187faf62",
   "metadata": {},
   "source": [
    "Después de la limpieza:"
   ]
  },
  {
   "cell_type": "code",
   "execution_count": 25,
   "id": "0664ba3a",
   "metadata": {},
   "outputs": [
    {
     "name": "stdout",
     "output_type": "stream",
     "text": [
      "Estadísticas después de la limpieza:\n",
      "       averageRating      numVotes  releaseYear\n",
      "count    1000.000000  1.000000e+03  1000.000000\n",
      "mean        8.367500  9.192366e+04  2010.210000\n",
      "std         0.322238  1.732035e+05    12.332396\n",
      "min         7.900000  1.001000e+04  1951.000000\n",
      "25%         8.100000  1.787525e+04  2005.000000\n",
      "50%         8.300000  3.425400e+04  2014.000000\n",
      "75%         8.600000  9.044375e+04  2019.000000\n",
      "max         9.500000  2.356835e+06  2024.000000\n"
     ]
    }
   ],
   "source": [
    "print(\"Estadísticas después de la limpieza:\")\n",
    "print(data_clean.describe())\n"
   ]
  },
  {
   "cell_type": "markdown",
   "id": "418562f3",
   "metadata": {},
   "source": [
    "## 4.2. Distribución de Datos\n",
    "Para ilustrar la distribución de los datos, opte por gráficar la distribución de las calificaciones promedio (averageRating) y el año de lanzamiento (releaseYear) antes y despúes respetivamente."
   ]
  },
  {
   "cell_type": "code",
   "execution_count": 27,
   "id": "4fbf0df7",
   "metadata": {},
   "outputs": [
    {
     "data": {
      "image/png": "[encoded data removed]",
      "text/plain": [
       "<Figure size 1000x600 with 2 Axes>"
      ]
     },
     "metadata": {},
     "output_type": "display_data"
    },
    {
     "data": {
      "image/png": "[encoded data removed]",
      "text/plain": [
       "<Figure size 1000x600 with 2 Axes>"
      ]
     },
     "metadata": {},
     "output_type": "display_data"
    }
   ],
   "source": [
    "plt.figure(figsize=(10, 6))\n",
    "plt.subplot(1, 2, 1)\n",
    "data['averageRating'].hist(bins=20)\n",
    "plt.title(\"Distribución de Calificaciones - Antes\")\n",
    "\n",
    "plt.subplot(1, 2, 2)\n",
    "data_clean['averageRating'].hist(bins=20)\n",
    "plt.title(\"Distribución de Calificaciones - Después\")\n",
    "plt.show()\n",
    "\n",
    "plt.figure(figsize=(10, 6))\n",
    "plt.subplot(1, 2, 1)\n",
    "data['releaseYear'].hist(bins=20)\n",
    "plt.title(\"Distribución del Año de Lanzamiento - Antes\")\n",
    "\n",
    "plt.subplot(1, 2, 2)\n",
    "data_clean['releaseYear'].hist(bins=20)\n",
    "plt.title(\"Distribución del Año de Lanzamiento - Después\")\n",
    "plt.show()\n"
   ]
  },
  {
   "cell_type": "markdown",
   "id": "67a16831",
   "metadata": {},
   "source": [
    "## 5. Conclusiones\n",
    "\n",
    "El proceso de limpieza de datos llevado a cabo permitió mejorar significativamente la calidad del conjunto de datos, lo que es fundamental para garantizar la fiabilidad de cualquier análisis posterior. A través de la identificación y corrección de valores atípicos en las columnas de averageRating y releaseYear, se eliminaron inconsistencias que podrían haber sesgado los resultados. Además, la estandarización de los géneros textuales asegura una mayor homogeneidad en los datos categóricos, facilitando su análisis.\n",
    "\n",
    "El tratamiento de los valores faltantes fue abordado sin necesidad de imputaciones, dado que no se detectaron datos nulos en el conjunto inicial. Sin embargo, se aplicaron filtros rigurosos para garantizar que las calificaciones estuvieran dentro de un rango válido y que los años de lanzamiento correspondieran a fechas realistas.\n",
    "\n",
    "Con esta limpieza, el conjunto de datos está listo para un análisis más profundo, y los resultados obtenidos de este proceso proporcionan una base sólida sobre la cual construir inferencias más precisas y confiables. Las correcciones y estandarizaciones realizadas aportan una estructura clara y coherente, lo que refuerza la capacidad predictiva de los modelos que se apliquen a estos datos en el futuro.\n",
    "\n",
    "\n",
    "\n",
    "## 6. Recomendaciones\n",
    "\n",
    "A partir del proceso de limpieza de datos realizado, se sugieren las siguientes recomendaciones para mejorar la gestión y calidad de los datos en futuros proyectos:\n",
    "\n",
    "1. Monitoreo Regular: Realizar revisiones periódicas de los datos para identificar posibles errores o inconsistencias a medida que se recopilan. Esto ayudará a mantener la calidad del conjunto de datos a lo largo del tiempo.\n",
    "\n",
    "2. Uso de Plantillas: Implementar plantillas para la recopilación de datos, que incluyan validaciones básicas. Por ejemplo, asegurarse de que las calificaciones estén dentro de un rango definido y que los años de lanzamiento sean razonables.\n",
    "\n",
    "3. Documentación Clara: Mantener una documentación clara y detallada sobre el proceso de limpieza de datos, que incluya los pasos tomados y las decisiones realizadas. Esto facilitará el entendimiento del proceso y permitirá que otros puedan replicar la limpieza en conjuntos de datos futuros.\n",
    "\n",
    "4. Automatización de Tareas Repetitivas: Considerar la creación de scripts o funciones simples en Python que permitan automatizar tareas comunes de limpieza, como la detección de valores nulos o la estandarización de textos. Esto hará el proceso más eficiente y menos propenso a errores."
   ]
  },
  {
   "cell_type": "markdown",
   "id": "11a0bd5c",
   "metadata": {},
   "source": [
    "## 7. Referencias Bibliográficas\n",
    "\n",
    "- CEM-TC1002S-201-2413. (n.d.). *Limpieza de datos* [Archivo Jupyter Notebook]. GitHub. https://github.com/CEM-TC1002S-201-2413/material/blob/main/02%20Limpieza%20de%20datos.ipynb\n",
    "\n",
    "- Octopus Team. (n.d.). IMDB top 1000 TV series [Conjunto de datos]. Kaggle. https://www.kaggle.com/datasets/octopusteam/imdb-top-1000-tv-series\n",
    "\n",
    "- Nbformat. (n.d.). nbformat documentation. https://nbformat.readthedocs.io/en/latest/"
   ]
  }
 ],
 "metadata": {
  "kernelspec": {
   "display_name": "Python 3",
   "language": "python",
   "name": "python3"
  },
  "language_info": {
   "codemirror_mode": {
    "name": "ipython",
    "version": 3
   },
   "file_extension": ".py",
   "mimetype": "text/x-python",
   "name": "python",
   "nbconvert_exporter": "python",
   "pygments_lexer": "ipython3",
   "version": "3.12.1"
  }
 },
 "nbformat": 4,
 "nbformat_minor": 5
}
